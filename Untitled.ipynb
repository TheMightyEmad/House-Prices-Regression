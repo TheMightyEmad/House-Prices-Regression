{
 "cells": [
  {
   "cell_type": "code",
   "execution_count": 1,
   "id": "e3073f54-fa3b-4009-8963-fb79bd4690fd",
   "metadata": {},
   "outputs": [],
   "source": [
    "import pandas as pd\n",
    "import numpy as np\n",
    "import matplotlib.pyplot as plt\n",
    "from sklearn.ensemble import RandomForestClassifier\n",
    "from sklearn.feature_selection import SelectFromModel\n",
    "from sklearn.model_selection import train_test_split\n",
    "from sklearn.preprocessing import LabelEncoder,MinMaxScaler"
   ]
  },
  {
   "cell_type": "markdown",
   "id": "86c2c266-dd44-4511-96b8-9af64a866f71",
   "metadata": {},
   "source": [
    "function to find the best treshhold and alpha for feature selection, not very efficient"
   ]
  },
  {
   "cell_type": "code",
   "execution_count": 751,
   "id": "b771c63b-9363-4c4f-bc7f-2ea4f09e1ca9",
   "metadata": {},
   "outputs": [],
   "source": [
    "def treshholdfinder(alph,tresh):\n",
    "    df=pd.read_csv('train.csv')\n",
    "    df.head()\n",
    "    df.dropna(axis=1, how='all')\n",
    "    df = df.drop('Id', axis=1)\n",
    "    numeric = df.select_dtypes(include=np.number).columns.tolist()\n",
    "    numeric.remove('SalePrice')\n",
    "    for i in numeric:\n",
    "        df[i].fillna(int(df[i].mean()), inplace=True)\n",
    "    scaler = MinMaxScaler()\n",
    "    scaler_price = MinMaxScaler()\n",
    "    df[numeric] = scaler.fit_transform(df[numeric])\n",
    "    df['SalePrice']=scaler_price.fit_transform(df[['SalePrice']])\n",
    "    unique_count = df.nunique()\n",
    "\n",
    "# Filter the columns that have at most 4 unique values\n",
    "    result_mean = unique_count[(unique_count <= 10)].index.tolist()\n",
    "    df_backup=df.copy()\n",
    "    for i in result_mean:\n",
    "        Mean_encoded_subject = df.groupby([i])['SalePrice'].mean().to_dict()\n",
    "  \n",
    "        df[i] =  df[i].map(Mean_encoded_subject)\n",
    "    df=df._get_numeric_data()\n",
    "    columns=df.columns.values.tolist()\n",
    "    for i in columns:\n",
    "        df[i].fillna(int(df[i].median()), inplace=True)\n",
    "    df.dropna()\n",
    "    X_train, X_test, y_train, y_test= train_test_split(df.loc[:, df.columns != 'SalePrice'],df.iloc[:,-1],test_size=0.3)\n",
    "    from sklearn.linear_model import Ridge\n",
    "    from sklearn.feature_selection import SelectFromModel\n",
    "    rr = Ridge(alpha=alph,random_state=0)\n",
    "# Fit the model to the data\n",
    "    rr.fit(X_train, y_train)\n",
    "    \n",
    "# Select features using a threshold\n",
    "    sfm = SelectFromModel(rr, threshold=round(tresh,3))\n",
    "    sfm.fit(X_train, y_train)\n",
    "\n",
    "# Transform the feature matrix\n",
    "    X_selected = sfm.transform(X_train)\n",
    "    selected_feat= X_train.columns[(sfm.get_support())]\n",
    "    selected_feat=selected_feat.tolist()\n",
    "    len(selected_feat)\n",
    "    df=pd.read_csv('train.csv')\n",
    "    selected_feat.append('SalePrice')\n",
    "    df=df[selected_feat]\n",
    "    df.dropna(axis=1, how='all')\n",
    "    df=df.dropna(thresh=len(df) - 400, axis=1)\n",
    "\n",
    "    numeric = df.select_dtypes(include=np.number).columns.tolist()\n",
    "    numeric.remove('SalePrice')\n",
    "    for i in numeric:\n",
    "        df[i].fillna(int(df[i].mean()), inplace=True)\n",
    "    scaler = MinMaxScaler()\n",
    "    scaler_price = MinMaxScaler()\n",
    "    df[numeric] = scaler.fit_transform(df[numeric])\n",
    "    df['SalePrice']=scaler_price.fit_transform(df[['SalePrice']])\n",
    "\n",
    "    unique_count = df.nunique()\n",
    "\n",
    "    result_mean = unique_count[(unique_count > 3) & (unique_count <= 10)].index.tolist()\n",
    "\n",
    "    result_hot = unique_count[(unique_count <= 3)].index.tolist()\n",
    "\n",
    "    df_backup=df.copy()\n",
    "    for i in result_mean:\n",
    "        Mean_encoded_subject = df.groupby([i])['SalePrice'].mean().to_dict()\n",
    "  \n",
    "        df[i] =  df[i].map(Mean_encoded_subject)\n",
    "    for col in result_hot:\n",
    "        col_encoded = pd.get_dummies(df[col], prefix=col)\n",
    "        df = pd.concat([df, col_encoded], axis=1)\n",
    "        df.drop(col, axis=1, inplace=True)\n",
    "    df=df._get_numeric_data()\n",
    "    columns=df.columns.values.tolist()\n",
    "    for i in columns:\n",
    "        df[i].fillna(int(df[i].median()), inplace=True)\n",
    "    df.dropna()\n",
    "    df = df.assign(SalePrice=df.pop('SalePrice'))\n",
    "    df_pr=df\n",
    "    X_train, X_test, y_train, y_test= train_test_split(df_pr.loc[:, df_pr.columns != 'SalePrice'],df_pr.iloc[:,-1],test_size=0.3)\n",
    "    from sklearn.ensemble import RandomForestRegressor\n",
    "#rndm = RandomForestRegressor( n_estimators=1500,max_depth=20,random_state=0)\n",
    "    rndm = RandomForestRegressor( random_state=0)\n",
    "    rndm.fit(X_train, y_train)\n",
    "    y_pred = rndm.predict(X_test)\n",
    "# calculate RMSE\n",
    "    rmse = np.sqrt(mean_squared_error(y_test, y_pred))\n",
    "    mse = mean_squared_error(y_test, y_pred)\n",
    "    r2 = r2_score(y_test, y_pred)\n",
    "# Print the metrics\n",
    "    #print('Mean squared error (MSE):', mse)\n",
    "    #print('Root mean squared error (RMSE):', rmse)\n",
    "    #print('R-squared (R²) score:', r2)\n",
    "    return r2\n",
    "\n",
    "\n"
   ]
  },
  {
   "cell_type": "code",
   "execution_count": 575,
   "id": "72584247-8fd9-4f94-b4c3-428a4015fece",
   "metadata": {},
   "outputs": [
    {
     "name": "stdout",
     "output_type": "stream",
     "text": [
      "changed0.7to0.8926309367707275with i0.0\n",
      "0.0 0.895435482600169 0.8926309367707275\n",
      "changed0.8926309367707275to0.8956437880193956with i0.006500000000000001\n",
      "0.01 0.8659891058151719 0.8956437880193956\n",
      "0.02 0.8699602754938077 0.8956437880193956\n",
      "changed0.8956437880193956to0.9043861814910813with i0.025500000000000002\n",
      "changed0.9043861814910813to0.9132681612127653with i0.0315\n",
      "0.04 0.8931467324919189 0.9132681612127653\n",
      "0.08 0.8421173290804814 0.9132681612127653\n",
      "0.9132681612127653 0.0315\n"
     ]
    }
   ],
   "source": [
    "step_size=0.0005\n",
    "i_best=0.001\n",
    "tresh_best=0.7\n",
    "alpha_best=0.1\n",
    "for i in np.arange(0, 0.1+step_size, step_size):\n",
    "    for j in np.arange(0, 0.1+step_size, step_size):\n",
    "        treshi=treshholdfinder(i)\n",
    "    #tresh_best=treshholdfinder(i)\n",
    "        if tresh_best<treshi:\n",
    "            print('changed'+str(tresh_best)+'to'+str(treshi)+'with i'+str(i))\n",
    "            i_best=i\n",
    "            tresh_best=treshi\n",
    "        if i%.01==0:print(i,treshholdfinder(i),tresh_best)\n",
    "print(tresh_best,i_best)"
   ]
  },
  {
   "cell_type": "code",
   "execution_count": 806,
   "id": "7a8776ae-4342-4325-adfc-1f1b89224b27",
   "metadata": {},
   "outputs": [
    {
     "data": {
      "text/html": [
       "<div>\n",
       "<style scoped>\n",
       "    .dataframe tbody tr th:only-of-type {\n",
       "        vertical-align: middle;\n",
       "    }\n",
       "\n",
       "    .dataframe tbody tr th {\n",
       "        vertical-align: top;\n",
       "    }\n",
       "\n",
       "    .dataframe thead th {\n",
       "        text-align: right;\n",
       "    }\n",
       "</style>\n",
       "<table border=\"1\" class=\"dataframe\">\n",
       "  <thead>\n",
       "    <tr style=\"text-align: right;\">\n",
       "      <th></th>\n",
       "      <th>Id</th>\n",
       "      <th>MSSubClass</th>\n",
       "      <th>MSZoning</th>\n",
       "      <th>LotFrontage</th>\n",
       "      <th>LotArea</th>\n",
       "      <th>Street</th>\n",
       "      <th>Alley</th>\n",
       "      <th>LotShape</th>\n",
       "      <th>LandContour</th>\n",
       "      <th>Utilities</th>\n",
       "      <th>...</th>\n",
       "      <th>PoolArea</th>\n",
       "      <th>PoolQC</th>\n",
       "      <th>Fence</th>\n",
       "      <th>MiscFeature</th>\n",
       "      <th>MiscVal</th>\n",
       "      <th>MoSold</th>\n",
       "      <th>YrSold</th>\n",
       "      <th>SaleType</th>\n",
       "      <th>SaleCondition</th>\n",
       "      <th>SalePrice</th>\n",
       "    </tr>\n",
       "  </thead>\n",
       "  <tbody>\n",
       "    <tr>\n",
       "      <th>0</th>\n",
       "      <td>1</td>\n",
       "      <td>60</td>\n",
       "      <td>RL</td>\n",
       "      <td>65.0</td>\n",
       "      <td>8450</td>\n",
       "      <td>Pave</td>\n",
       "      <td>NaN</td>\n",
       "      <td>Reg</td>\n",
       "      <td>Lvl</td>\n",
       "      <td>AllPub</td>\n",
       "      <td>...</td>\n",
       "      <td>0</td>\n",
       "      <td>NaN</td>\n",
       "      <td>NaN</td>\n",
       "      <td>NaN</td>\n",
       "      <td>0</td>\n",
       "      <td>2</td>\n",
       "      <td>2008</td>\n",
       "      <td>WD</td>\n",
       "      <td>Normal</td>\n",
       "      <td>208500</td>\n",
       "    </tr>\n",
       "    <tr>\n",
       "      <th>1</th>\n",
       "      <td>2</td>\n",
       "      <td>20</td>\n",
       "      <td>RL</td>\n",
       "      <td>80.0</td>\n",
       "      <td>9600</td>\n",
       "      <td>Pave</td>\n",
       "      <td>NaN</td>\n",
       "      <td>Reg</td>\n",
       "      <td>Lvl</td>\n",
       "      <td>AllPub</td>\n",
       "      <td>...</td>\n",
       "      <td>0</td>\n",
       "      <td>NaN</td>\n",
       "      <td>NaN</td>\n",
       "      <td>NaN</td>\n",
       "      <td>0</td>\n",
       "      <td>5</td>\n",
       "      <td>2007</td>\n",
       "      <td>WD</td>\n",
       "      <td>Normal</td>\n",
       "      <td>181500</td>\n",
       "    </tr>\n",
       "    <tr>\n",
       "      <th>2</th>\n",
       "      <td>3</td>\n",
       "      <td>60</td>\n",
       "      <td>RL</td>\n",
       "      <td>68.0</td>\n",
       "      <td>11250</td>\n",
       "      <td>Pave</td>\n",
       "      <td>NaN</td>\n",
       "      <td>IR1</td>\n",
       "      <td>Lvl</td>\n",
       "      <td>AllPub</td>\n",
       "      <td>...</td>\n",
       "      <td>0</td>\n",
       "      <td>NaN</td>\n",
       "      <td>NaN</td>\n",
       "      <td>NaN</td>\n",
       "      <td>0</td>\n",
       "      <td>9</td>\n",
       "      <td>2008</td>\n",
       "      <td>WD</td>\n",
       "      <td>Normal</td>\n",
       "      <td>223500</td>\n",
       "    </tr>\n",
       "    <tr>\n",
       "      <th>3</th>\n",
       "      <td>4</td>\n",
       "      <td>70</td>\n",
       "      <td>RL</td>\n",
       "      <td>60.0</td>\n",
       "      <td>9550</td>\n",
       "      <td>Pave</td>\n",
       "      <td>NaN</td>\n",
       "      <td>IR1</td>\n",
       "      <td>Lvl</td>\n",
       "      <td>AllPub</td>\n",
       "      <td>...</td>\n",
       "      <td>0</td>\n",
       "      <td>NaN</td>\n",
       "      <td>NaN</td>\n",
       "      <td>NaN</td>\n",
       "      <td>0</td>\n",
       "      <td>2</td>\n",
       "      <td>2006</td>\n",
       "      <td>WD</td>\n",
       "      <td>Abnorml</td>\n",
       "      <td>140000</td>\n",
       "    </tr>\n",
       "    <tr>\n",
       "      <th>4</th>\n",
       "      <td>5</td>\n",
       "      <td>60</td>\n",
       "      <td>RL</td>\n",
       "      <td>84.0</td>\n",
       "      <td>14260</td>\n",
       "      <td>Pave</td>\n",
       "      <td>NaN</td>\n",
       "      <td>IR1</td>\n",
       "      <td>Lvl</td>\n",
       "      <td>AllPub</td>\n",
       "      <td>...</td>\n",
       "      <td>0</td>\n",
       "      <td>NaN</td>\n",
       "      <td>NaN</td>\n",
       "      <td>NaN</td>\n",
       "      <td>0</td>\n",
       "      <td>12</td>\n",
       "      <td>2008</td>\n",
       "      <td>WD</td>\n",
       "      <td>Normal</td>\n",
       "      <td>250000</td>\n",
       "    </tr>\n",
       "  </tbody>\n",
       "</table>\n",
       "<p>5 rows × 81 columns</p>\n",
       "</div>"
      ],
      "text/plain": [
       "   Id  MSSubClass MSZoning  LotFrontage  LotArea Street Alley LotShape  \\\n",
       "0   1          60       RL         65.0     8450   Pave   NaN      Reg   \n",
       "1   2          20       RL         80.0     9600   Pave   NaN      Reg   \n",
       "2   3          60       RL         68.0    11250   Pave   NaN      IR1   \n",
       "3   4          70       RL         60.0     9550   Pave   NaN      IR1   \n",
       "4   5          60       RL         84.0    14260   Pave   NaN      IR1   \n",
       "\n",
       "  LandContour Utilities  ... PoolArea PoolQC Fence MiscFeature MiscVal MoSold  \\\n",
       "0         Lvl    AllPub  ...        0    NaN   NaN         NaN       0      2   \n",
       "1         Lvl    AllPub  ...        0    NaN   NaN         NaN       0      5   \n",
       "2         Lvl    AllPub  ...        0    NaN   NaN         NaN       0      9   \n",
       "3         Lvl    AllPub  ...        0    NaN   NaN         NaN       0      2   \n",
       "4         Lvl    AllPub  ...        0    NaN   NaN         NaN       0     12   \n",
       "\n",
       "  YrSold  SaleType  SaleCondition  SalePrice  \n",
       "0   2008        WD         Normal     208500  \n",
       "1   2007        WD         Normal     181500  \n",
       "2   2008        WD         Normal     223500  \n",
       "3   2006        WD        Abnorml     140000  \n",
       "4   2008        WD         Normal     250000  \n",
       "\n",
       "[5 rows x 81 columns]"
      ]
     },
     "execution_count": 806,
     "metadata": {},
     "output_type": "execute_result"
    }
   ],
   "source": [
    "df=pd.read_csv('train.csv')\n",
    "df.head()"
   ]
  },
  {
   "cell_type": "code",
   "execution_count": 807,
   "id": "736cfdba-1ec9-4a4e-8fb0-11e1ab5ef5cc",
   "metadata": {},
   "outputs": [
    {
     "data": {
      "text/html": [
       "<div>\n",
       "<style scoped>\n",
       "    .dataframe tbody tr th:only-of-type {\n",
       "        vertical-align: middle;\n",
       "    }\n",
       "\n",
       "    .dataframe tbody tr th {\n",
       "        vertical-align: top;\n",
       "    }\n",
       "\n",
       "    .dataframe thead th {\n",
       "        text-align: right;\n",
       "    }\n",
       "</style>\n",
       "<table border=\"1\" class=\"dataframe\">\n",
       "  <thead>\n",
       "    <tr style=\"text-align: right;\">\n",
       "      <th></th>\n",
       "      <th>Total</th>\n",
       "      <th>Percent</th>\n",
       "    </tr>\n",
       "  </thead>\n",
       "  <tbody>\n",
       "    <tr>\n",
       "      <th>PoolQC</th>\n",
       "      <td>1453</td>\n",
       "      <td>0.995205</td>\n",
       "    </tr>\n",
       "    <tr>\n",
       "      <th>MiscFeature</th>\n",
       "      <td>1406</td>\n",
       "      <td>0.963014</td>\n",
       "    </tr>\n",
       "    <tr>\n",
       "      <th>Alley</th>\n",
       "      <td>1369</td>\n",
       "      <td>0.937671</td>\n",
       "    </tr>\n",
       "    <tr>\n",
       "      <th>Fence</th>\n",
       "      <td>1179</td>\n",
       "      <td>0.807534</td>\n",
       "    </tr>\n",
       "    <tr>\n",
       "      <th>FireplaceQu</th>\n",
       "      <td>690</td>\n",
       "      <td>0.472603</td>\n",
       "    </tr>\n",
       "    <tr>\n",
       "      <th>LotFrontage</th>\n",
       "      <td>259</td>\n",
       "      <td>0.177397</td>\n",
       "    </tr>\n",
       "    <tr>\n",
       "      <th>GarageYrBlt</th>\n",
       "      <td>81</td>\n",
       "      <td>0.055479</td>\n",
       "    </tr>\n",
       "    <tr>\n",
       "      <th>GarageCond</th>\n",
       "      <td>81</td>\n",
       "      <td>0.055479</td>\n",
       "    </tr>\n",
       "    <tr>\n",
       "      <th>GarageType</th>\n",
       "      <td>81</td>\n",
       "      <td>0.055479</td>\n",
       "    </tr>\n",
       "    <tr>\n",
       "      <th>GarageFinish</th>\n",
       "      <td>81</td>\n",
       "      <td>0.055479</td>\n",
       "    </tr>\n",
       "    <tr>\n",
       "      <th>GarageQual</th>\n",
       "      <td>81</td>\n",
       "      <td>0.055479</td>\n",
       "    </tr>\n",
       "    <tr>\n",
       "      <th>BsmtFinType2</th>\n",
       "      <td>38</td>\n",
       "      <td>0.026027</td>\n",
       "    </tr>\n",
       "    <tr>\n",
       "      <th>BsmtExposure</th>\n",
       "      <td>38</td>\n",
       "      <td>0.026027</td>\n",
       "    </tr>\n",
       "    <tr>\n",
       "      <th>BsmtQual</th>\n",
       "      <td>37</td>\n",
       "      <td>0.025342</td>\n",
       "    </tr>\n",
       "    <tr>\n",
       "      <th>BsmtCond</th>\n",
       "      <td>37</td>\n",
       "      <td>0.025342</td>\n",
       "    </tr>\n",
       "    <tr>\n",
       "      <th>BsmtFinType1</th>\n",
       "      <td>37</td>\n",
       "      <td>0.025342</td>\n",
       "    </tr>\n",
       "    <tr>\n",
       "      <th>MasVnrArea</th>\n",
       "      <td>8</td>\n",
       "      <td>0.005479</td>\n",
       "    </tr>\n",
       "    <tr>\n",
       "      <th>MasVnrType</th>\n",
       "      <td>8</td>\n",
       "      <td>0.005479</td>\n",
       "    </tr>\n",
       "    <tr>\n",
       "      <th>Electrical</th>\n",
       "      <td>1</td>\n",
       "      <td>0.000685</td>\n",
       "    </tr>\n",
       "    <tr>\n",
       "      <th>Id</th>\n",
       "      <td>0</td>\n",
       "      <td>0.000000</td>\n",
       "    </tr>\n",
       "  </tbody>\n",
       "</table>\n",
       "</div>"
      ],
      "text/plain": [
       "              Total   Percent\n",
       "PoolQC         1453  0.995205\n",
       "MiscFeature    1406  0.963014\n",
       "Alley          1369  0.937671\n",
       "Fence          1179  0.807534\n",
       "FireplaceQu     690  0.472603\n",
       "LotFrontage     259  0.177397\n",
       "GarageYrBlt      81  0.055479\n",
       "GarageCond       81  0.055479\n",
       "GarageType       81  0.055479\n",
       "GarageFinish     81  0.055479\n",
       "GarageQual       81  0.055479\n",
       "BsmtFinType2     38  0.026027\n",
       "BsmtExposure     38  0.026027\n",
       "BsmtQual         37  0.025342\n",
       "BsmtCond         37  0.025342\n",
       "BsmtFinType1     37  0.025342\n",
       "MasVnrArea        8  0.005479\n",
       "MasVnrType        8  0.005479\n",
       "Electrical        1  0.000685\n",
       "Id                0  0.000000"
      ]
     },
     "execution_count": 807,
     "metadata": {},
     "output_type": "execute_result"
    }
   ],
   "source": [
    "total = df.isnull().sum().sort_values(ascending=False)\n",
    "percent = (df.isnull().sum()/df.isnull().count()).sort_values(ascending=False)\n",
    "missing_data = pd.concat([total, percent], axis=1, keys=['Total', 'Percent'])\n",
    "missing_data.head(20)"
   ]
  },
  {
   "cell_type": "code",
   "execution_count": 808,
   "id": "a6c36b19-830f-4cec-8ca8-ab4aeb86e014",
   "metadata": {},
   "outputs": [
    {
     "name": "stderr",
     "output_type": "stream",
     "text": [
      "/tmp/ipykernel_28350/1191676949.py:1: FutureWarning: In a future version of pandas all arguments of DataFrame.drop except for the argument 'labels' will be keyword-only.\n",
      "  df = df.drop((missing_data[missing_data['Total'] > 1]).index,1)\n"
     ]
    },
    {
     "data": {
      "text/plain": [
       "0"
      ]
     },
     "execution_count": 808,
     "metadata": {},
     "output_type": "execute_result"
    }
   ],
   "source": [
    "df = df.drop((missing_data[missing_data['Total'] > 1]).index,1)\n",
    "df = df.drop(df.loc[df['Electrical'].isnull()].index)\n",
    "df.isnull().sum().max() #just checking that there's no missing data missing..."
   ]
  },
  {
   "cell_type": "code",
   "execution_count": 809,
   "id": "1cc3d315-30a0-4f45-abb3-d98141938ac0",
   "metadata": {},
   "outputs": [],
   "source": [
    "\n",
    "df.sort_values(by = 'GrLivArea', ascending = False)[:2]\n",
    "df = df.drop(df[df['Id'] == 1299].index)\n",
    "df = df.drop(df[df['Id'] == 524].index)\n",
    "df.dropna(axis=1, how='all')"
   ]
  },
  {
   "cell_type": "code",
   "execution_count": 811,
   "id": "56a0561b-d727-4ed7-8657-367615ee8186",
   "metadata": {},
   "outputs": [],
   "source": [
    "#df=df.dropna(thresh=len(df) - 400, axis=1)\n",
    "df = df.drop('Id', axis=1)"
   ]
  },
  {
   "cell_type": "code",
   "execution_count": 812,
   "id": "92fe2bf0-c56e-440f-9bbf-1af108db7f28",
   "metadata": {},
   "outputs": [],
   "source": [
    "numeric = df.select_dtypes(include=np.number).columns.tolist()\n",
    "numeric.remove('SalePrice')"
   ]
  },
  {
   "cell_type": "code",
   "execution_count": 813,
   "id": "34313eed-e8dd-4a47-a816-4bf9c4e07e8f",
   "metadata": {},
   "outputs": [],
   "source": [
    "#columns=df.columns.values.tolist()\n",
    "for i in numeric:\n",
    "    df[i].fillna(int(df[i].mean()), inplace=True)"
   ]
  },
  {
   "cell_type": "code",
   "execution_count": 814,
   "id": "7be56bc5-8d24-44a2-9d45-281feecad828",
   "metadata": {},
   "outputs": [],
   "source": [
    "scaler = MinMaxScaler()\n",
    "scaler_price = MinMaxScaler()\n",
    "#df[numeric] = scaler.fit_transform(df[numeric])\n",
    "#df['SalePrice']=scaler_price.fit_transform(df[['SalePrice']])"
   ]
  },
  {
   "cell_type": "code",
   "execution_count": 815,
   "id": "176f38b2-ac8d-4796-be79-db57ac2fd6ec",
   "metadata": {},
   "outputs": [],
   "source": [
    "unique_count = df.nunique()\n",
    "\n",
    "# Filter the columns that have at most 4 unique values\n",
    "result_mean = unique_count[(unique_count <= 10)].index.tolist()\n"
   ]
  },
  {
   "cell_type": "code",
   "execution_count": 816,
   "id": "37c9c3e7-6a4f-4485-b888-26fd46ccdd53",
   "metadata": {},
   "outputs": [],
   "source": [
    "df_backup=df.copy()\n",
    "for i in result_mean:\n",
    "    Mean_encoded_subject = df.groupby([i])['SalePrice'].mean().to_dict()\n",
    "  \n",
    "    df[i] =  df[i].map(Mean_encoded_subject)"
   ]
  },
  {
   "cell_type": "code",
   "execution_count": 818,
   "id": "52493e0a-7d4f-4846-a2d7-6111b2760959",
   "metadata": {},
   "outputs": [],
   "source": [
    "df=df._get_numeric_data()\n",
    "columns=df.columns.values.tolist()\n",
    "for i in columns:\n",
    "    df[i].fillna(int(df[i].median()), inplace=True)\n",
    "df.dropna()"
   ]
  },
  {
   "cell_type": "code",
   "execution_count": 820,
   "id": "293594a8-258e-4f31-b515-ac369bc4e447",
   "metadata": {},
   "outputs": [],
   "source": [
    "X_train=df.loc[:, df.columns != 'SalePrice']\n",
    "y_train=df.iloc[:,-1]"
   ]
  },
  {
   "cell_type": "code",
   "execution_count": 821,
   "id": "c160bf32-715e-4f38-b7b4-987818ae2862",
   "metadata": {},
   "outputs": [],
   "source": [
    "from sklearn.linear_model import Ridge\n",
    "from sklearn.feature_selection import SelectFromModel\n",
    "rr = Ridge(alpha=0.004,random_state=0)\n",
    "# Fit the model to the data\n",
    "rr.fit(X_train, y_train)\n",
    "\n",
    "# Select features using a threshold\n",
    "sfm = SelectFromModel(rr, threshold=0.0315)\n",
    "sfm.fit(X_train, y_train)\n",
    "\n",
    "# Transform the feature matrix\n",
    "X_selected = sfm.transform(X_train)"
   ]
  },
  {
   "cell_type": "code",
   "execution_count": 822,
   "id": "f9142ab0-23f7-4408-9008-5c4dace9c1dd",
   "metadata": {},
   "outputs": [
    {
     "data": {
      "text/plain": [
       "52"
      ]
     },
     "execution_count": 822,
     "metadata": {},
     "output_type": "execute_result"
    }
   ],
   "source": [
    "selected_feat= X_train.columns[(sfm.get_support())]\n",
    "selected_feat=selected_feat.tolist()\n",
    "len(selected_feat)"
   ]
  },
  {
   "cell_type": "code",
   "execution_count": 841,
   "id": "6e5dcf6d-78eb-4036-8658-dd8c4a323fff",
   "metadata": {},
   "outputs": [
    {
     "name": "stdout",
     "output_type": "stream",
     "text": [
      "['MSSubClass', 'LotArea', 'OverallQual', 'YearBuilt', 'YearRemodAdd', 'BsmtFinSF1', 'BsmtFinSF2', 'BsmtUnfSF', 'TotalBsmtSF', '1stFlrSF', '2ndFlrSF', 'LowQualFinSF', 'GrLivArea', 'BsmtFullBath', 'BsmtHalfBath', 'FullBath', 'HalfBath', 'BedroomAbvGr', 'KitchenAbvGr', 'TotRmsAbvGrd', 'Fireplaces', 'GarageCars', 'GarageArea', 'WoodDeckSF', 'OpenPorchSF', 'EnclosedPorch', '3SsnPorch', 'ScreenPorch', 'PoolArea', 'MiscVal', 'MoSold', 'SalePrice']\n"
     ]
    }
   ],
   "source": [
    "df=pd.read_csv('train.csv')\n",
    "\n",
    "selected_feat.append('SalePrice')\n",
    "df=df[selected_feat]\n",
    "df.dropna(axis=1, how='all')\n",
    "df=df.dropna(thresh=len(df) - 400, axis=1)\n",
    "\n",
    "numeric = df.select_dtypes(include=np.number).columns.tolist()\n",
    "print(numeric)\n",
    "numeric.remove('SalePrice')\n",
    "for i in numeric:\n",
    "    df[i].fillna(float(df[i].mean()), inplace=True)\n",
    "scaler = MinMaxScaler()\n",
    "scaler_price = MinMaxScaler(feature_range=(0.1, 1))\n",
    "df[numeric] = scaler.fit_transform(df[numeric])\n",
    "df['SalePrice']=scaler_price.fit_transform(df[['SalePrice']])\n",
    "\n",
    "unique_count = df.nunique()\n",
    "\n",
    "result_mean = unique_count[(unique_count  > 2) & (unique_count <= 10)].index.tolist()\n",
    "\n",
    "#result_hot = unique_count[(unique_count <= 5)& (unique_count > 2)].index.tolist()\n",
    "\n",
    "df_backup=df.copy()\n",
    "for i in result_mean:\n",
    "    Mean_encoded_subject = df.groupby([i])['SalePrice'].mean().to_dict()\n",
    "  \n",
    "    df[i] =  df[i].map(Mean_encoded_subject)\n",
    "'''for col in result_hot:\n",
    "    col_encoded = pd.get_dummies(df[col], prefix=col)\n",
    "    df = pd.concat([df, col_encoded], axis=1)\n",
    "    df.drop(col, axis=1, inplace=True)'''\n",
    "df=df._get_numeric_data()\n",
    "columns=df.columns.values.tolist()\n",
    "for i in columns:\n",
    "    df[i].fillna(int(df[i].median()), inplace=True)\n",
    "df.dropna()\n",
    "df = df.assign(SalePrice=df.pop('SalePrice'))\n",
    "df['SalePrice']=np.log(df['SalePrice'])\n",
    "df_pr=df"
   ]
  },
  {
   "cell_type": "code",
   "execution_count": 843,
   "id": "9c47523d-2497-4beb-8c9a-8adac0508720",
   "metadata": {},
   "outputs": [],
   "source": [
    "X_train, X_test, y_train, y_test= train_test_split(df_pr.loc[:, df_pr.columns != 'SalePrice'],df_pr.loc[:, df_pr.columns == 'SalePrice'],test_size=0.3,random_state=3)"
   ]
  },
  {
   "cell_type": "code",
   "execution_count": 844,
   "id": "f011134e-ad77-4a5c-be1f-20a53479901d",
   "metadata": {},
   "outputs": [
    {
     "name": "stdout",
     "output_type": "stream",
     "text": [
      "Mean squared error (MSE): 0.0188274020577239\n",
      "Root mean squared error (RMSE): 0.13721298064587\n",
      "R-squared (R²) score: 0.7909552478974471\n"
     ]
    }
   ],
   "source": [
    "from sklearn.linear_model import LinearRegression\n",
    "from sklearn.metrics import mean_squared_error, r2_score\n",
    "#rndm = RandomForestRegressor(random_state=0)\n",
    "#rndm.fit(X_train, y_train)\n",
    "reg = LinearRegression()\n",
    "reg.fit(X_train, y_train)\n",
    "y_pred = reg.predict(X_test)\n",
    " #calculate RMSE\n",
    "rmse = np.sqrt(mean_squared_error(y_test, y_pred))\n",
    "mse = mean_squared_error(y_test, y_pred)\n",
    "r2 = r2_score(y_test, y_pred)\n",
    "# Print the metrics\n",
    "print('Mean squared error (MSE):', mse)\n",
    "print('Root mean squared error (RMSE):', rmse)\n",
    "print('R-squared (R²) score:', r2)"
   ]
  },
  {
   "cell_type": "code",
   "execution_count": 845,
   "id": "4aee35cd-5ce5-44fa-b07b-c23394ff6e86",
   "metadata": {},
   "outputs": [
    {
     "name": "stdout",
     "output_type": "stream",
     "text": [
      "Mean squared error (MSE): 0.008693360328546293\n",
      "Root mean squared error (RMSE): 0.09323819136247921\n",
      "R-squared (R²) score: 0.9034757238812148\n"
     ]
    },
    {
     "name": "stderr",
     "output_type": "stream",
     "text": [
      "/home/almighty/conda/lib/python3.10/site-packages/sklearn/utils/validation.py:1143: DataConversionWarning: A column-vector y was passed when a 1d array was expected. Please change the shape of y to (n_samples, ), for example using ravel().\n",
      "  y = column_or_1d(y, warn=True)\n"
     ]
    }
   ],
   "source": [
    "from sklearn import svm\n",
    "regr = svm.SVR(kernel='rbf',gamma='scale',C=1.3)\n",
    "regr.fit(X_train, y_train)\n",
    "y_pred = regr.predict(X_test)\n",
    "# calculate RMSE\n",
    "rmse = np.sqrt(mean_squared_error(y_test, y_pred))\n",
    "mse = mean_squared_error(y_test, y_pred)\n",
    "r2 = r2_score(y_test, y_pred)\n",
    "# Print the metrics\n",
    "print('Mean squared error (MSE):', mse)\n",
    "print('Root mean squared error (RMSE):', rmse)\n",
    "print('R-squared (R²) score:', r2)"
   ]
  },
  {
   "cell_type": "code",
   "execution_count": 846,
   "id": "302ac34c-582a-45a4-b20f-bb174c4463c0",
   "metadata": {},
   "outputs": [
    {
     "name": "stdout",
     "output_type": "stream",
     "text": [
      "Mean squared error (MSE): 0.019135747150693442\n",
      "Root mean squared error (RMSE): 0.13833201780749618\n",
      "R-squared (R²) score: 0.7875316250670518\n"
     ]
    }
   ],
   "source": [
    "from sklearn.linear_model import Ridge\n",
    "clf = Ridge(alpha=1.0)\n",
    "clf.fit(X_train, y_train)\n",
    "y_pred = clf.predict(X_test)\n",
    "# calculate RMSE\n",
    "rmse = np.sqrt(mean_squared_error(y_test, y_pred))\n",
    "mse = mean_squared_error(y_test, y_pred)\n",
    "r2 = r2_score(y_test, y_pred)\n",
    "# Print the metrics\n",
    "print('Mean squared error (MSE):', mse)\n",
    "print('Root mean squared error (RMSE):', rmse)\n",
    "print('R-squared (R²) score:', r2)"
   ]
  },
  {
   "cell_type": "code",
   "execution_count": 847,
   "id": "34b6e23d-dce8-4ded-afc8-1dac2e987c9b",
   "metadata": {},
   "outputs": [
    {
     "name": "stdout",
     "output_type": "stream",
     "text": [
      "Mean squared error (MSE): 0.03461494885083311\n",
      "Root mean squared error (RMSE): 0.1860509307980831\n",
      "R-squared (R²) score: 0.6156626719193914\n"
     ]
    },
    {
     "name": "stderr",
     "output_type": "stream",
     "text": [
      "/home/almighty/conda/lib/python3.10/site-packages/sklearn/utils/validation.py:1143: DataConversionWarning: A column-vector y was passed when a 1d array was expected. Please change the shape of y to (n_samples, ), for example using ravel().\n",
      "  y = column_or_1d(y, warn=True)\n"
     ]
    }
   ],
   "source": [
    "from sklearn.linear_model import SGDRegressor\n",
    "reg = SGDRegressor()\n",
    "reg.fit(X_train, y_train)\n",
    "y_pred = reg.predict(X_test)\n",
    "# calculate RMSE\n",
    "rmse = np.sqrt(mean_squared_error(y_test, y_pred))\n",
    "mse = mean_squared_error(y_test, y_pred)\n",
    "r2 = r2_score(y_test, y_pred)\n",
    "# Print the metrics\n",
    "print('Mean squared error (MSE):', mse)\n",
    "print('Root mean squared error (RMSE):', rmse)\n",
    "print('R-squared (R²) score:', r2)"
   ]
  },
  {
   "cell_type": "code",
   "execution_count": 848,
   "id": "151f4c27-540d-4d77-9e78-ee9f5f2b1eed",
   "metadata": {},
   "outputs": [
    {
     "name": "stderr",
     "output_type": "stream",
     "text": [
      "/home/almighty/conda/lib/python3.10/site-packages/sklearn/utils/validation.py:1143: DataConversionWarning: A column-vector y was passed when a 1d array was expected. Please change the shape of y to (n_samples, ), for example using ravel().\n",
      "  y = column_or_1d(y, warn=True)\n"
     ]
    },
    {
     "name": "stdout",
     "output_type": "stream",
     "text": [
      "Mean squared error (MSE): 0.023572600361751073\n",
      "Root mean squared error (RMSE): 0.15353371083169673\n",
      "R-squared (R²) score: 0.7382682759986414\n"
     ]
    },
    {
     "name": "stderr",
     "output_type": "stream",
     "text": [
      "/home/almighty/conda/lib/python3.10/site-packages/sklearn/linear_model/_huber.py:342: ConvergenceWarning: lbfgs failed to converge (status=1):\n",
      "STOP: TOTAL NO. of ITERATIONS REACHED LIMIT.\n",
      "\n",
      "Increase the number of iterations (max_iter) or scale the data as shown in:\n",
      "    https://scikit-learn.org/stable/modules/preprocessing.html\n",
      "  self.n_iter_ = _check_optimize_result(\"lbfgs\", opt_res, self.max_iter)\n"
     ]
    }
   ],
   "source": [
    "from sklearn.linear_model import HuberRegressor\n",
    "huber = HuberRegressor()\n",
    "huber.fit(X_train, y_train)\n",
    "y_pred = huber.predict(X_test)\n",
    "# calculate RMSE\n",
    "rmse = np.sqrt(mean_squared_error(y_test, y_pred))\n",
    "mse = mean_squared_error(y_test, y_pred)\n",
    "r2 = r2_score(y_test, y_pred)\n",
    "# Print the metrics\n",
    "print('Mean squared error (MSE):', mse)\n",
    "print('Root mean squared error (RMSE):', rmse)\n",
    "print('R-squared (R²) score:', r2)"
   ]
  },
  {
   "cell_type": "code",
   "execution_count": 849,
   "id": "ac19e42a-444d-4c4d-99c6-2e407ab22693",
   "metadata": {},
   "outputs": [
    {
     "name": "stderr",
     "output_type": "stream",
     "text": [
      "/tmp/ipykernel_28350/1759980802.py:4: DataConversionWarning: A column-vector y was passed when a 1d array was expected. Please change the shape of y to (n_samples,), for example using ravel().\n",
      "  rndm.fit(X_train, y_train)\n"
     ]
    },
    {
     "name": "stdout",
     "output_type": "stream",
     "text": [
      "Mean squared error (MSE): 0.012617144944729305\n",
      "Root mean squared error (RMSE): 0.11232606529532362\n",
      "R-squared (R²) score: 0.8599090873437385\n"
     ]
    }
   ],
   "source": [
    "from sklearn.ensemble import RandomForestRegressor\n",
    "#rndm = RandomForestRegressor( n_estimators=1500,max_depth=20,random_state=0)\n",
    "rndm = RandomForestRegressor( random_state=0)\n",
    "rndm.fit(X_train, y_train)\n",
    "y_pred = rndm.predict(X_test)\n",
    "# calculate RMSE\n",
    "rmse = np.sqrt(mean_squared_error(y_test, y_pred))\n",
    "mse = mean_squared_error(y_test, y_pred)\n",
    "r2 = r2_score(y_test, y_pred)\n",
    "# Print the metrics\n",
    "print('Mean squared error (MSE):', mse)\n",
    "print('Root mean squared error (RMSE):', rmse)\n",
    "print('R-squared (R²) score:', r2)"
   ]
  },
  {
   "cell_type": "code",
   "execution_count": 850,
   "id": "d3928389-904b-49ab-ab8c-7121ee5a4130",
   "metadata": {},
   "outputs": [
    {
     "name": "stdout",
     "output_type": "stream",
     "text": [
      "Mean squared error (MSE): 0.02318295887039695\n",
      "Root mean squared error (RMSE): 0.15225951159253384\n",
      "R-squared (R²) score: 0.7425945504744965\n"
     ]
    }
   ],
   "source": [
    "from sklearn.tree import DecisionTreeRegressor\n",
    "tree = DecisionTreeRegressor(max_depth=5)\n",
    "\n",
    "tree.fit(X_train, y_train)\n",
    "y_pred = tree.predict(X_test)\n",
    "# calculate RMSE\n",
    "rmse = np.sqrt(mean_squared_error(y_test, y_pred))\n",
    "mse = mean_squared_error(y_test, y_pred)\n",
    "r2 = r2_score(y_test, y_pred)\n",
    "# Print the metrics\n",
    "print('Mean squared error (MSE):', mse)\n",
    "print('Root mean squared error (RMSE):', rmse)\n",
    "print('R-squared (R²) score:', r2)"
   ]
  },
  {
   "cell_type": "code",
   "execution_count": 851,
   "id": "8638af32-1f96-4178-97ae-fcda7358d3a3",
   "metadata": {},
   "outputs": [],
   "source": [
    "df_tst=pd.read_csv('test.csv')\n",
    "df_bc=df_tst.copy()\n",
    "selected_feat.remove('SalePrice')\n",
    "df_tst=df_tst[selected_feat]"
   ]
  },
  {
   "cell_type": "code",
   "execution_count": 852,
   "id": "19816adf-d196-4314-85c9-5131188937d1",
   "metadata": {},
   "outputs": [],
   "source": [
    "df_tst[numeric] = scaler.fit_transform(df_tst[numeric])"
   ]
  },
  {
   "cell_type": "code",
   "execution_count": 853,
   "id": "5599354f-b280-4d69-ab1c-3d6b712fa7ae",
   "metadata": {},
   "outputs": [],
   "source": [
    "for i in result_mean:\n",
    "    Mean_encoded_subject = df_backup.groupby([i])['SalePrice'].mean().to_dict()\n",
    "  \n",
    "    df_tst[i] =  df_tst[i].map(Mean_encoded_subject)\n",
    "'''for col in result_hot:\n",
    "    col_encoded = pd.get_dummies(df_tst[col], prefix=col)\n",
    "    df_tst = pd.concat([df_tst, col_encoded], axis=1)\n",
    "    df_tst.drop(col, axis=1, inplace=True)'''\n",
    "#df_tst = df_tst.drop('Id', axis=1)\n",
    "numeric = df_tst.select_dtypes(include=np.number).columns.tolist()\n",
    "for i in numeric:\n",
    "    df_tst[i].fillna(float(df_tst[i].mean()), inplace=True)"
   ]
  },
  {
   "cell_type": "code",
   "execution_count": 854,
   "id": "af0aa227-7ec9-4fc7-963f-f962cc532fd6",
   "metadata": {},
   "outputs": [],
   "source": [
    "df_tst=df_tst._get_numeric_data()\n",
    "columns=df_tst.columns.values.tolist()\n",
    "for i in columns:\n",
    "    df_tst[i].fillna(int(df_tst[i].median()), inplace=True)"
   ]
  },
  {
   "cell_type": "code",
   "execution_count": 863,
   "id": "8d2aea94-eae1-45db-93c1-20fc68a19769",
   "metadata": {},
   "outputs": [],
   "source": [
    "df_bc['SalePrice']=regr.predict(df_tst)"
   ]
  },
  {
   "cell_type": "code",
   "execution_count": 865,
   "id": "60f012da-d5a0-4341-b24f-d02bb5c73a93",
   "metadata": {},
   "outputs": [],
   "source": [
    "df_bc['SalePrice'] = np.exp(df_bc[['SalePrice']])\n",
    "df_bc['SalePrice'] = scaler_price.inverse_transform(df_bc[['SalePrice']])"
   ]
  },
  {
   "cell_type": "code",
   "execution_count": 805,
   "id": "430f16aa-a10c-453f-a0d8-d932f5b75222",
   "metadata": {},
   "outputs": [],
   "source": [
    "df_out=df_bc.iloc[:, [0] + [-1]]\n",
    "df_out.to_csv('output.csv', index=False)"
   ]
  }
 ],
 "metadata": {
  "kernelspec": {
   "display_name": "Python 3 (ipykernel)",
   "language": "python",
   "name": "python3"
  },
  "language_info": {
   "codemirror_mode": {
    "name": "ipython",
    "version": 3
   },
   "file_extension": ".py",
   "mimetype": "text/x-python",
   "name": "python",
   "nbconvert_exporter": "python",
   "pygments_lexer": "ipython3",
   "version": "3.10.8"
  }
 },
 "nbformat": 4,
 "nbformat_minor": 5
}
